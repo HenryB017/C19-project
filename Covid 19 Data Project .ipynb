{
 "cells": [
  {
   "cell_type": "markdown",
   "metadata": {},
   "source": [
    "# Covid 19 Project\n",
    "\n",
    "Welcome to my covid-19 data project where I will be exploring Covid-19 data and answering questions around the effective of different countries policy measures and which countries have been hit the hardest by the pandemic. I will be also looking at underlaying health issues and it's effect on the death rate. Finally, I'll be used data visualisation libraries to plot and bring some the data alvie!\n",
    "Python libraries used in this project:\n",
    "1. Pandas\n",
    "2. Numpy\n",
    "3. Matplotlib - %matplotlib inline allows the plot to show in the notebook\n",
    "4. Plotly"
   ]
  },
  {
   "cell_type": "code",
   "execution_count": null,
   "metadata": {},
   "outputs": [],
   "source": [
    "import pandas as pd\n",
    "import numpy as np\n",
    "import matplotlib.pyplot as plt\n",
    "%matplotlib inline\n",
    "import seaborn as sns\n",
    "import plotly.graph_objects as go \n",
    "import plotly.express as px"
   ]
  },
  {
   "cell_type": "code",
   "execution_count": null,
   "metadata": {
    "scrolled": true
   },
   "outputs": [],
   "source": [
    "## Get covid 19 data from owid.org\n",
    "c19_data = 'owid-covid-data.csv'\n",
    "df = pd.read_csv(c19_data)\n",
    "df.head()"
   ]
  },
  {
   "cell_type": "code",
   "execution_count": null,
   "metadata": {},
   "outputs": [],
   "source": [
    "## Create an unique dataframe with just the country names \n",
    "country_df = df.location.unique()\n",
    "country_df.size\n",
    "## Selecting specific country (Ghana) & total cases\n",
    "get_country = df[df['location'] == 'Ghana'].index\n",
    "ghana_tc = df.loc[get_country, 'date':'total_cases']\n",
    "ghana_tc.set_index('date', inplace=True)\n",
    "ghana_tc.dropna()\n",
    "ghana_tc"
   ]
  },
  {
   "cell_type": "code",
   "execution_count": null,
   "metadata": {},
   "outputs": [],
   "source": [
    "## Plotting Ghana's total cases using matplotlib, with moving average\n",
    "ghana_tc.plot(figsize=(12,6))\n",
    "ghana_tc.rolling(window=7).mean()['total_cases'].plot()"
   ]
  },
  {
   "cell_type": "markdown",
   "metadata": {},
   "source": [
    "# Policy Measure: Looking at the effectiveness of a lockdown\n",
    "\n",
    "This section attempts to look at the effectiveness of a national lockdown at anytime time during the pandemic. To look at the effectiveness of the lockdown, I'll take a dive into the United Kingdom and Sweden. During the peak of the pandemcic, the United Kindgom decided to implement a national lockdown whereas Sweden opted against such measure. "
   ]
  },
  {
   "cell_type": "code",
   "execution_count": null,
   "metadata": {},
   "outputs": [],
   "source": [
    "def plot_covid_data(country, col, plot_ma=False, y_max=3000):\n",
    "    get_country = df[df['location'] == country].index\n",
    "    world_df = df.loc[get_country, 'date':col]\n",
    "    world_df.set_index('date', inplace=True)\n",
    "    world_df.dropna()\n",
    "    world_df.drop(world_df.columns.difference([col]), 1, inplace=True)\n",
    "    world_df.plot(figsize=(12,6), ylim=[0, y_max])\n",
    "    \n",
    "    if plot_ma:\n",
    "        world_df.rolling(window=7).mean()[col].plot()\n",
    "\n",
    "plot_covid_data('United Kingdom','new_cases_per_million', True, 1000)\n",
    "plot_covid_data('Sweden','new_cases_per_million', True, )"
   ]
  },
  {
   "cell_type": "markdown",
   "metadata": {},
   "source": [
    "# Population: Looking at the medium age\n",
    "In this section, we look at the corelation between the medium age and new deaths per million. Research suggests that young people are more likely to recover from the virus as oppose to people aged 60 and over. To answer this question we will look at two countries that sit at the opposite ends of the spectrum with regards to medium age. Country one is Germany, with the medium age of 47.1 and population of 83 million and the second country is South Korea, with a medium age of 41.8 and a population of 52 milllion."
   ]
  },
  {
   "cell_type": "code",
   "execution_count": null,
   "metadata": {},
   "outputs": [],
   "source": [
    "plot_covid_data('Germany','new_deaths_per_million', True, 15)\n",
    "plot_covid_data('South Korea','new_deaths_per_million', True, 1)"
   ]
  },
  {
   "cell_type": "markdown",
   "metadata": {},
   "source": [
    "# Obesity: Underlying Health issues and the effect on death rate\n",
    "This section explains how underlying health issues, such as obesity, effects the death rate. With regards to Covid, research suggest that those with underlying health, in particular respiratory and cardiovascular issues, are at greater risk of the virus. Canada is a country that has a prevalant obesity issue throughout the country while, India has a relatively low obesity rate."
   ]
  },
  {
   "cell_type": "code",
   "execution_count": null,
   "metadata": {},
   "outputs": [],
   "source": [
    "plot_covid_data('Canada','new_deaths_per_million', True, 8)\n",
    "plot_covid_data('India','new_deaths_per_million', True, 2.5)"
   ]
  },
  {
   "cell_type": "markdown",
   "metadata": {},
   "source": [
    "# Testing Measures\n",
    "Lastly, this section takes a look at the argument for the need of extensive testing on all aspects of living, such as airports, care homes & hospitals. Frequent testing allows countries to pick up and trace the virius more effectively, where signs of surges may occur. Government states can then react to the testing data and implement new restrictions to help control the infection rate. UAE is a country that has a widespread testing regime relative to South Africa where testing isn't so common."
   ]
  },
  {
   "cell_type": "code",
   "execution_count": null,
   "metadata": {},
   "outputs": [],
   "source": [
    "plot_covid_data('United Arab Emirates','new_deaths_per_million', True, 1.5)\n",
    "plot_covid_data('South Africa','new_deaths_per_million', True, 13)"
   ]
  },
  {
   "cell_type": "markdown",
   "metadata": {},
   "source": [
    "# Scatter plot\n",
    "This scatter plot will show the correlation between deaths per million and the population aged 65 and over. The data represented in the scatter plot will be pulled from the 02-01-2020 "
   ]
  },
  {
   "cell_type": "code",
   "execution_count": null,
   "metadata": {},
   "outputs": [],
   "source": [
    "def scatter_graph(date, col1, col2):\n",
    "    tot_df = pd.DataFrame(columns = ['date', 'location', col1, col2])\n",
    "    for c in country_df:\n",
    "        temp_df = df[(df['location'] == c) & (df['date'] == date)][['date', 'location', col1, col2]]\n",
    "        tot_df = tot_df.append(temp_df, ignore_index = True).fillna(0)\n",
    "    tot_df.set_index('date', inplace = True)\n",
    "    \n",
    "    fig = px.scatter(data_frame=tot_df, x=col2, y=col1, color='location', trendline='ols', hover_data=['location'])\n",
    "    fig.show()\n",
    "    return tot_df\n",
    "\n",
    "scatter_graph('2021-01-02', 'total_deaths_per_million', 'aged_65_older')"
   ]
  },
  {
   "cell_type": "code",
   "execution_count": null,
   "metadata": {},
   "outputs": [],
   "source": []
  }
 ],
 "metadata": {
  "kernelspec": {
   "display_name": "Python 3",
   "language": "python",
   "name": "python3"
  },
  "language_info": {
   "codemirror_mode": {
    "name": "ipython",
    "version": 3
   },
   "file_extension": ".py",
   "mimetype": "text/x-python",
   "name": "python",
   "nbconvert_exporter": "python",
   "pygments_lexer": "ipython3",
   "version": "3.7.6"
  }
 },
 "nbformat": 4,
 "nbformat_minor": 4
}
